{
 "cells": [
  {
   "cell_type": "code",
   "execution_count": 4,
   "metadata": {},
   "outputs": [
    {
     "name": "stdout",
     "output_type": "stream",
     "text": [
      "       Fecha          Cuenta  debito  credito descripcion  id_sql\n",
      "0 2024-09-09  Banco macro cc  5000.0      0.0       vents       1\n",
      "1 2024-09-09  Banco macro cc     0.0   5000.0      retiro       2\n",
      "2 2024-09-09  Banco macro cc  5000.0      0.0         vta       3\n",
      "3 2024-09-09  Banco macro cc     0.0   5000.0         vta       4\n",
      "4 2024-09-09  Banco macro cc  5000.0      0.0        vtas       5\n",
      "Fecha          datetime64[ns]\n",
      "Cuenta               category\n",
      "debito                float64\n",
      "credito               float64\n",
      "descripcion            object\n",
      "id_sql                  int64\n",
      "dtype: object\n"
     ]
    }
   ],
   "source": [
    "import pandas as pd\n",
    "\n",
    "# Cargar el CSV\n",
    "file_path = 'libro_diario_2024-09-09.csv'\n",
    "df = pd.read_csv(file_path)\n",
    "\n",
    "# Generar un nuevo ID único autoincremental\n",
    "df['id_sql'] = range(1, len(df) + 1)\n",
    "\n",
    "# Convertir la columna 'Fecha' a tipo datetime\n",
    "df['Fecha'] = pd.to_datetime(df['Fecha'])\n",
    "\n",
    "# Convertir 'Cuenta' a tipo category\n",
    "df['Cuenta'] = df['Cuenta'].astype('category')\n",
    "\n",
    "# Renombrar columnas\n",
    "df = df.rename(columns={'Débito': 'debito', 'Crédito': 'credito', 'Descripción': 'descripcion'})\n",
    "\n",
    "# Borrar columna id \n",
    "df = df.drop(columns=['id'])\n",
    "\n",
    "\n",
    "# Mostrar el DataFrame final\n",
    "print(df.head())\n",
    "print(df.dtypes)\n"
   ]
  },
  {
   "cell_type": "markdown",
   "metadata": {},
   "source": [
    "## Guardar el df en parquet"
   ]
  },
  {
   "cell_type": "code",
   "execution_count": 6,
   "metadata": {},
   "outputs": [],
   "source": [
    "import pandas as pd\n",
    "\n",
    "# Supongamos que tienes el DataFrame df\n",
    "df.to_parquet('backup_data.parquet')\n"
   ]
  },
  {
   "cell_type": "markdown",
   "metadata": {},
   "source": [
    "## Cargar el df en una base de datos en my sql "
   ]
  },
  {
   "cell_type": "code",
   "execution_count": null,
   "metadata": {},
   "outputs": [],
   "source": []
  }
 ],
 "metadata": {
  "kernelspec": {
   "display_name": "Python 3",
   "language": "python",
   "name": "python3"
  },
  "language_info": {
   "codemirror_mode": {
    "name": "ipython",
    "version": 3
   },
   "file_extension": ".py",
   "mimetype": "text/x-python",
   "name": "python",
   "nbconvert_exporter": "python",
   "pygments_lexer": "ipython3",
   "version": "3.12.5"
  }
 },
 "nbformat": 4,
 "nbformat_minor": 2
}
